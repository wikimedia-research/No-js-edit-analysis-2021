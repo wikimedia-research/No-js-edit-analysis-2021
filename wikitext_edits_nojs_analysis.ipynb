{
 "cells": [
  {
   "cell_type": "markdown",
   "metadata": {},
   "source": [
    "# Edits saved without JS enabled\n",
    "\n",
    "[Task](https://phabricator.wikimedia.org/T240697)"
   ]
  },
  {
   "cell_type": "markdown",
   "metadata": {},
   "source": [
    "# Purpose\n",
    "\n",
    "We need to determine the percentage of completed (non-bot) edits without javascript (JS) support (either in a browser that doesn't have JS support, or a regular browser with JS turned off). This data will be used to ensure that we are accurately accounting for users that complete edits with and without JS support. "
   ]
  },
  {
   "cell_type": "markdown",
   "metadata": {},
   "source": [
    "# Metrics\n",
    "\n",
    "* Snapshot % of user edits done with no JS support, browseable by project and platform (mobile vs. desktop)\n",
    "* Snapshot % of anon edits done with no JS support, browseable by project and platform (mobile vs. desktop)\n",
    "* Snapshot % of all edits done with no JS support, browseable by project and platform (mobile vs. desktop)"
   ]
  },
  {
   "cell_type": "markdown",
   "metadata": {},
   "source": [
    "# Methodology\n",
    "\n",
    "This analysis builds on the work completed in [T240697#6217971](https://phabricator.wikimedia.org/T240697#6217971). \n",
    "\n",
    "In this first analysis, we were unable to determine an accurate number of completed Wikieditor edits by users without JS due to ad and tracking blockers that block sending data via EventLogging. Instrumentation was added in [T263505](https://phabricator.wikimedia.org/T263505) to send a new event when an edit made with Wikieditor is saved by a user with JS enabled. We started recording these events on 12 May 2021 following the deployment of a fix to the instrumentation.\n",
    "\n",
    "The following event was added to the VisualEditorFeatureUse eventlogging schema to track these events.\n",
    "\n",
    "`event.feature = 'mwSave'`\n",
    "`event.action = 'source-has-js'`\n",
    "\n",
    "This instrumentation only applies to saved edits made with WikiEditor. In this analysis, we assume all non-wikitext edits (`editor_interface ! = 'wikitext'`) or non-page edits (`integration ! = 'page'`)(i.e. edits made with VisualEditor, Discussion Tool or app edits) have JS enabled as these editors require JS to work. \n",
    "\n"
   ]
  },
  {
   "cell_type": "markdown",
   "metadata": {},
   "source": [
    "# Data Clarifications and Assumptions\n",
    "\n",
    "* Data reflects events logged from 13 May 2021 through 29 May 2021.\n",
    "* Analysis based on data logged in EditAttemptStemp and VisualEditorFeatureUse, which has a sampling rate of 6.25%\n",
    "* Assumes all non-Wikieditor page edits (such as, Visual Editor and Discussion Tool edits) were completed with JS support, as these editors require JS.\n",
    "* Reviewed data excludes identified bots; however, unidentified automated traffic may be included.\n",
    "* Instrumentation does differentiate between different possible reasons JS was not available at the time of the save, such as users that:\n",
    "  * intentionally disabled JS for privacy reasons,\n",
    "  * were not able to load JS prior to saving,\n",
    "  * have browsers that do not support JS,\n",
    "  * has an older version of JS we don't send JS to, or\n",
    "  * users that disabled the 2010 Wikieditor toolbar by user preference. Note these users technically had JS at the time of the save; however, current instrumentation does not log their support "
   ]
  },
  {
   "cell_type": "code",
   "execution_count": 34,
   "metadata": {},
   "outputs": [],
   "source": [
    "shhh <- function(expr) suppressPackageStartupMessages(suppressWarnings(suppressMessages(expr)))\n",
    "shhh({\n",
    "    library(tidyverse); \n",
    "    library(lubridate); \n",
    "    library(scales);\n",
    "    library(magrittr); \n",
    "    library(dplyr);\n",
    "})\n"
   ]
  },
  {
   "cell_type": "markdown",
   "metadata": {},
   "source": [
    "# Percent of edits completed without JS by platform"
   ]
  },
  {
   "cell_type": "code",
   "execution_count": 433,
   "metadata": {},
   "outputs": [],
   "source": [
    "query <-\n",
    "\"\n",
    "-- We are only interested in saveSuccess events i.e. saved edits -- \n",
    "WITH saveSuccess_sessions as (\n",
    "    SELECT DISTINCT\n",
    "      event.editing_session_id AS ss_session_id,\n",
    "      event.user_id AS user_id,\n",
    "      event.editor_interface AS editor_interface,\n",
    "      event.platform AS platform,\n",
    "      event.integration AS integration,\n",
    "      useragent.device_family as user_agent,\n",
    "      wiki AS ss_wiki\n",
    "FROM event.editattemptstep\n",
    "WHERE\n",
    "    YEAR = 2021\n",
    "    AND MONTH = 05\n",
    "-- May 13 was the first full day of events\n",
    "    AND (Day >= 13 AND DAY <= 29)\n",
    "    AND event.action = 'saveSuccess' \n",
    "    AND useragent.is_bot = false\n",
    "-- remove any oversampled events\n",
    "   AND NOT event.is_oversample\n",
    "),\n",
    "\n",
    "-- Now we will use 'source-has-js' events to identify wikitext edits saved with JS support \n",
    "js_wt_sessions AS(\n",
    "  SELECT\n",
    "    event.editingSessionid AS wt_js_session_id,\n",
    "    wiki AS js_wt_wiki,\n",
    "    event.action AS wikitext_js_edit\n",
    "FROM event.visualeditorfeatureuse \n",
    "WHERE\n",
    "    YEAR = 2021\n",
    "    AND MONTH = 05\n",
    "    AND (DAY >= 13 AND DAY <= 29)\n",
    "    AND event.action = 'source-has-js'\n",
    "    AND event.feature = 'mwSave'\n",
    "-- only wikitext events should have this action recorded\n",
    "    AND event.editor_interface = 'wikitext'\n",
    "    AND useragent.is_bot = false\n",
    ")\n",
    "\n",
    "\n",
    "-- MAIN QUERY \n",
    "SELECT \n",
    "  wiki,\n",
    "  user_agent,\n",
    "-- only wikitext page edits without a js event should be considered as not having js\n",
    "-- WikiEditor records all edits as desktop due to bug See T249944\n",
    "  SUM(CAST(user_id = 0 AND editor_interface = 'wikitext' AND integration = 'page' AND platform = 'desktop' AND wikitext_js_edit is NULL AS INT)) AS anon_no_js_edit,\n",
    "  SUM(CAST(user_id != 0 AND editor_interface = 'wikitext' AND integration = 'page' AND platform = 'desktop' AND wikitext_js_edit is NULL AS INT)) AS user_no_js_edit,\n",
    "  SUM(CAST(user_id = 0 AS INT)) AS anon_all_edits,\n",
    "  SUM(CAST(user_id != 0 AS INT)) AS user_all_edits \n",
    "FROM (\n",
    "  SELECT \n",
    "    user_id AS user_id ,\n",
    "    ss_wiki AS wiki,\n",
    "    editor_interface AS editor_interface,\n",
    "    integration AS integration,\n",
    "    platform AS platform,\n",
    "    user_agent AS user_agent,\n",
    "    ss_session_id AS ss_session_id,\n",
    "    wikitext_js_edit\n",
    "  FROM saveSuccess_sessions ss  \n",
    "  LEFT JOIN \n",
    "    js_wt_sessions ON ss.ss_session_id = js_wt_sessions.wt_js_session_id\n",
    "    AND ss.ss_wiki = js_wt_sessions.js_wt_wiki\n",
    "  GROUP BY \n",
    "    ss.user_id, \n",
    "    ss.ss_wiki,\n",
    "    ss.editor_interface,\n",
    "    ss.integration,\n",
    "    ss.platform,\n",
    "    ss.user_agent,\n",
    "    ss.ss_session_id, \n",
    "    js_wt_sessions.wikitext_js_edit\n",
    "    ) edit_sessions\n",
    "GROUP BY\n",
    "    wiki,\n",
    "    user_agent\n",
    "  \""
   ]
  },
  {
   "cell_type": "code",
   "execution_count": 434,
   "metadata": {},
   "outputs": [
    {
     "name": "stderr",
     "output_type": "stream",
     "text": [
      "Don't forget to authenticate with Kerberos using kinit\n",
      "\n"
     ]
    }
   ],
   "source": [
    "collect_js_edits <-  wmfdata::query_hive(query)"
   ]
  },
  {
   "cell_type": "markdown",
   "metadata": {},
   "source": [
    "## Identify Mobile Vs Desktop edits based on device family\n",
    "\n",
    "WikiEditor is only capable of recording edits as platform = \"desktop\" (rather than \"tablet\" or \"phone\"). As a result, we used the device family recorded for each edit to detect mobile and desktop edits."
   ]
  },
  {
   "cell_type": "code",
   "execution_count": 435,
   "metadata": {},
   "outputs": [],
   "source": [
    "patterns <-  c('mobi','240x240','240x320','320x320','alcatel','android','audiovox','bada','benq','blackberry','cdm-',\n",
    "            'compal-','docomo','ericsson','hiptop','htc[-_]','huawei','ipod','kddi-','kindle', 'meego','midp','mitsu',\n",
    "            'mmp\\\\/','mot-','motor','ngm_','nintendo','opera.m','palm','panasonic','philips','phone','playstation',\n",
    "            'portalmmm','sagem-','samsung','sanyo','sec-','sendo','sharp','silk','softbank','symbian','teleca',\n",
    "             'up.browser','webos')"
   ]
  },
  {
   "cell_type": "code",
   "execution_count": 436,
   "metadata": {},
   "outputs": [],
   "source": [
    "patterns_start <- c('^lg-', '^sie-', '^nec-', '^lge-', '^sgh-', '^pg-')"
   ]
  },
  {
   "cell_type": "code",
   "execution_count": 437,
   "metadata": {},
   "outputs": [],
   "source": [
    "js_edits_wplatform <- collect_js_edits %>%\n",
    "    mutate(platform = ifelse((grepl(paste(patterns, collapse = \"|\"), user_agent, ignore.case = TRUE) |\n",
    "                            grepl(paste(patterns_start, collapse = \"|\"), user_agent, ignore.case = TRUE)) , \n",
    "                             'mobile', 'desktop'))\n"
   ]
  },
  {
   "cell_type": "code",
   "execution_count": 438,
   "metadata": {},
   "outputs": [],
   "source": [
    "write.csv(js_edits_wplatform, \"js_edits_wplatform.csv\", row.names=FALSE)"
   ]
  },
  {
   "cell_type": "markdown",
   "metadata": {},
   "source": [
    "## Snapshot % of logged-in user edits done with no JS support, by platform (mobile vs. desktop)"
   ]
  },
  {
   "cell_type": "code",
   "execution_count": 439,
   "metadata": {},
   "outputs": [
    {
     "name": "stderr",
     "output_type": "stream",
     "text": [
      "`summarise()` ungrouping output (override with `.groups` argument)\n",
      "\n"
     ]
    },
    {
     "data": {
      "text/html": [
       "<table>\n",
       "<caption>A tibble: 2 × 2</caption>\n",
       "<thead>\n",
       "\t<tr><th scope=col>platform</th><th scope=col>pct_nonjs_edit</th></tr>\n",
       "\t<tr><th scope=col>&lt;chr&gt;</th><th scope=col>&lt;chr&gt;</th></tr>\n",
       "</thead>\n",
       "<tbody>\n",
       "\t<tr><td>desktop</td><td>6.1% </td></tr>\n",
       "\t<tr><td>mobile </td><td>3.15%</td></tr>\n",
       "</tbody>\n",
       "</table>\n"
      ],
      "text/latex": [
       "A tibble: 2 × 2\n",
       "\\begin{tabular}{ll}\n",
       " platform & pct\\_nonjs\\_edit\\\\\n",
       " <chr> & <chr>\\\\\n",
       "\\hline\n",
       "\t desktop & 6.1\\% \\\\\n",
       "\t mobile  & 3.15\\%\\\\\n",
       "\\end{tabular}\n"
      ],
      "text/markdown": [
       "\n",
       "A tibble: 2 × 2\n",
       "\n",
       "| platform &lt;chr&gt; | pct_nonjs_edit &lt;chr&gt; |\n",
       "|---|---|\n",
       "| desktop | 6.1%  |\n",
       "| mobile  | 3.15% |\n",
       "\n"
      ],
      "text/plain": [
       "  platform pct_nonjs_edit\n",
       "1 desktop  6.1%          \n",
       "2 mobile   3.15%         "
      ]
     },
     "metadata": {},
     "output_type": "display_data"
    }
   ],
   "source": [
    "nojs_user_edits <- js_edits_wplatform %>%\n",
    "    group_by(platform) %>%\n",
    "    summarize(pct_nonjs_edit = paste0(round(sum(user_no_js_edit)/sum(user_all_edits) * 100,2), \"%\"))\n",
    "\n",
    "nojs_user_edits "
   ]
  },
  {
   "cell_type": "markdown",
   "metadata": {},
   "source": [
    "## Snapshot % of anon edits done with no JS support, by platform (mobile vs. desktop)"
   ]
  },
  {
   "cell_type": "code",
   "execution_count": 428,
   "metadata": {},
   "outputs": [
    {
     "name": "stderr",
     "output_type": "stream",
     "text": [
      "`summarise()` ungrouping output (override with `.groups` argument)\n",
      "\n"
     ]
    },
    {
     "data": {
      "text/html": [
       "<table>\n",
       "<caption>A tibble: 2 × 2</caption>\n",
       "<thead>\n",
       "\t<tr><th scope=col>platform</th><th scope=col>pct_nonjs_edit</th></tr>\n",
       "\t<tr><th scope=col>&lt;chr&gt;</th><th scope=col>&lt;chr&gt;</th></tr>\n",
       "</thead>\n",
       "<tbody>\n",
       "\t<tr><td>desktop</td><td>0.98%</td></tr>\n",
       "\t<tr><td>mobile </td><td>1.57%</td></tr>\n",
       "</tbody>\n",
       "</table>\n"
      ],
      "text/latex": [
       "A tibble: 2 × 2\n",
       "\\begin{tabular}{ll}\n",
       " platform & pct\\_nonjs\\_edit\\\\\n",
       " <chr> & <chr>\\\\\n",
       "\\hline\n",
       "\t desktop & 0.98\\%\\\\\n",
       "\t mobile  & 1.57\\%\\\\\n",
       "\\end{tabular}\n"
      ],
      "text/markdown": [
       "\n",
       "A tibble: 2 × 2\n",
       "\n",
       "| platform &lt;chr&gt; | pct_nonjs_edit &lt;chr&gt; |\n",
       "|---|---|\n",
       "| desktop | 0.98% |\n",
       "| mobile  | 1.57% |\n",
       "\n"
      ],
      "text/plain": [
       "  platform pct_nonjs_edit\n",
       "1 desktop  0.98%         \n",
       "2 mobile   1.57%         "
      ]
     },
     "metadata": {},
     "output_type": "display_data"
    }
   ],
   "source": [
    "nojs_anon_edits <- js_edits_wplatform %>%\n",
    "    #filter(logged_in_status == 'logged_out')  %>%\n",
    "    group_by(platform) %>%\n",
    "    summarize(pct_nonjs_edit = paste0(round(sum(anon_no_js_edit)/sum(anon_all_edits) * 100,2), \"%\"))\n",
    "\n",
    "nojs_anon_edits "
   ]
  },
  {
   "cell_type": "markdown",
   "metadata": {},
   "source": [
    "## Snapshot % of all edits done with no JS support, browseable by project and platform (mobile vs. desktop)"
   ]
  },
  {
   "cell_type": "code",
   "execution_count": 440,
   "metadata": {},
   "outputs": [
    {
     "name": "stderr",
     "output_type": "stream",
     "text": [
      "`summarise()` ungrouping output (override with `.groups` argument)\n",
      "\n"
     ]
    },
    {
     "data": {
      "text/html": [
       "<table>\n",
       "<caption>A tibble: 2 × 2</caption>\n",
       "<thead>\n",
       "\t<tr><th scope=col>platform</th><th scope=col>pct_nonjs_edit</th></tr>\n",
       "\t<tr><th scope=col>&lt;chr&gt;</th><th scope=col>&lt;chr&gt;</th></tr>\n",
       "</thead>\n",
       "<tbody>\n",
       "\t<tr><td>desktop</td><td>5.28%</td></tr>\n",
       "\t<tr><td>mobile </td><td>2.49%</td></tr>\n",
       "</tbody>\n",
       "</table>\n"
      ],
      "text/latex": [
       "A tibble: 2 × 2\n",
       "\\begin{tabular}{ll}\n",
       " platform & pct\\_nonjs\\_edit\\\\\n",
       " <chr> & <chr>\\\\\n",
       "\\hline\n",
       "\t desktop & 5.28\\%\\\\\n",
       "\t mobile  & 2.49\\%\\\\\n",
       "\\end{tabular}\n"
      ],
      "text/markdown": [
       "\n",
       "A tibble: 2 × 2\n",
       "\n",
       "| platform &lt;chr&gt; | pct_nonjs_edit &lt;chr&gt; |\n",
       "|---|---|\n",
       "| desktop | 5.28% |\n",
       "| mobile  | 2.49% |\n",
       "\n"
      ],
      "text/plain": [
       "  platform pct_nonjs_edit\n",
       "1 desktop  5.28%         \n",
       "2 mobile   2.49%         "
      ]
     },
     "metadata": {},
     "output_type": "display_data"
    }
   ],
   "source": [
    "nojs_all_edits <- js_edits_wplatform %>%\n",
    "    group_by(platform) %>%\n",
    "    summarize(pct_nonjs_edit = paste0(round((sum(user_no_js_edit) +sum(anon_no_js_edit))\n",
    "                                            /(sum(user_all_edits) + sum(anon_all_edits)) * 100,2), \"%\"))\n",
    "\n",
    "nojs_all_edits "
   ]
  },
  {
   "cell_type": "markdown",
   "metadata": {},
   "source": [
    "## By Project\n",
    "\n",
    "Data will be added to Superset to easily browse by all projects."
   ]
  }
 ],
 "metadata": {
  "kernelspec": {
   "display_name": "R",
   "language": "R",
   "name": "ir"
  },
  "language_info": {
   "codemirror_mode": "r",
   "file_extension": ".r",
   "mimetype": "text/x-r-source",
   "name": "R",
   "pygments_lexer": "r",
   "version": "3.5.2"
  }
 },
 "nbformat": 4,
 "nbformat_minor": 4
}
