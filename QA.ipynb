{
 "cells": [
  {
   "cell_type": "markdown",
   "metadata": {},
   "source": [
    "# Post deployment QA: Wikitext no JS instrumentation\n",
    "\n",
    "[Task](https://phabricator.wikimedia.org/T281409)"
   ]
  },
  {
   "cell_type": "code",
   "execution_count": 23,
   "metadata": {},
   "outputs": [],
   "source": [
    "shhh <- function(expr) suppressPackageStartupMessages(suppressWarnings(suppressMessages(expr)))\n",
    "shhh({\n",
    "    library(tidyverse); library(wmfdata)\n",
    "})"
   ]
  },
  {
   "cell_type": "markdown",
   "metadata": {},
   "source": [
    "# Post-Deployment QA"
   ]
  },
  {
   "cell_type": "markdown",
   "metadata": {},
   "source": [
    "## Confirm that events are logging in VEFU as expected"
   ]
  },
  {
   "cell_type": "code",
   "execution_count": 19,
   "metadata": {},
   "outputs": [],
   "source": [
    "# collect May VEFU events\n",
    "query <-\n",
    "\"\n",
    "SELECT\n",
    "    TO_DATE(dt) as `date`,\n",
    "    event.editingSessionID AS session_id,\n",
    "    event.integration AS integration,\n",
    "    event.editor_interface AS interface,\n",
    "    event.platform AS platform,\n",
    "    event.user_id AS user_id,\n",
    "    event.feature AS feature,\n",
    "    event.action AS action,\n",
    "    wiki AS wiki,\n",
    "    COUNT(*) AS num_events\n",
    "FROM event.visualeditorfeatureuse\n",
    "WHERE\n",
    "    YEAR = 2021\n",
    "    AND MONTH = 05\n",
    "    AND useragent.is_bot = false \n",
    "GROUP BY\n",
    "    TO_DATE(dt),\n",
    "    event.editingSessionID,\n",
    "    event.integration,\n",
    "    event.editor_interface,\n",
    "    event.feature,\n",
    "    event.action,\n",
    "    event.user_id,\n",
    "    event.platform,\n",
    "    wiki\n",
    "\"\n",
    "\n"
   ]
  },
  {
   "cell_type": "code",
   "execution_count": 20,
   "metadata": {},
   "outputs": [
    {
     "name": "stderr",
     "output_type": "stream",
     "text": [
      "Don't forget to authenticate with Kerberos using kinit\n",
      "\n"
     ]
    }
   ],
   "source": [
    "wikitext_js_edits <-  wmfdata::query_hive(query)"
   ]
  },
  {
   "cell_type": "code",
   "execution_count": 61,
   "metadata": {},
   "outputs": [],
   "source": [
    "# convert date\n",
    "wikitext_js_edits$date <- as.Date(wikitext_js_edits$date)"
   ]
  },
  {
   "cell_type": "markdown",
   "metadata": {},
   "source": [
    "## By Date"
   ]
  },
  {
   "cell_type": "code",
   "execution_count": 34,
   "metadata": {},
   "outputs": [
    {
     "name": "stderr",
     "output_type": "stream",
     "text": [
      "`summarise()` ungrouping output (override with `.groups` argument)\n",
      "\n"
     ]
    },
    {
     "data": {
      "text/html": [
       "<table>\n",
       "<caption>A tibble: 2 × 3</caption>\n",
       "<thead>\n",
       "\t<tr><th scope=col>date</th><th scope=col>n_events</th><th scope=col>n_sessions</th></tr>\n",
       "\t<tr><th scope=col>&lt;chr&gt;</th><th scope=col>&lt;int&gt;</th><th scope=col>&lt;int&gt;</th></tr>\n",
       "</thead>\n",
       "<tbody>\n",
       "\t<tr><td>2021-05-12</td><td>   82</td><td>   82</td></tr>\n",
       "\t<tr><td>2021-05-13</td><td>12327</td><td>12237</td></tr>\n",
       "</tbody>\n",
       "</table>\n"
      ],
      "text/latex": [
       "A tibble: 2 × 3\n",
       "\\begin{tabular}{lll}\n",
       " date & n\\_events & n\\_sessions\\\\\n",
       " <chr> & <int> & <int>\\\\\n",
       "\\hline\n",
       "\t 2021-05-12 &    82 &    82\\\\\n",
       "\t 2021-05-13 & 12327 & 12237\\\\\n",
       "\\end{tabular}\n"
      ],
      "text/markdown": [
       "\n",
       "A tibble: 2 × 3\n",
       "\n",
       "| date &lt;chr&gt; | n_events &lt;int&gt; | n_sessions &lt;int&gt; |\n",
       "|---|---|---|\n",
       "| 2021-05-12 |    82 |    82 |\n",
       "| 2021-05-13 | 12327 | 12237 |\n",
       "\n"
      ],
      "text/plain": [
       "  date       n_events n_sessions\n",
       "1 2021-05-12    82       82     \n",
       "2 2021-05-13 12327    12237     "
      ]
     },
     "metadata": {},
     "output_type": "display_data"
    }
   ],
   "source": [
    "# Daily events\n",
    "wikitext_js_edits_bydate <- wikitext_js_edits %>%\n",
    "    filter(action == 'source-has-js') %>%\n",
    "    group_by(date) %>%\n",
    "    summarize(n_events = sum(num_events),\n",
    "             n_sessions = n_distinct(session_id))\n",
    "\n",
    "wikitext_js_edits_bydate"
   ]
  },
  {
   "cell_type": "markdown",
   "metadata": {},
   "source": [
    "We have recorded a total of 12,409 events and 12,2389 sessions by users without JS to date (12 May to 13 May 2021). We started recording events on 12 May 2021 following the deployment of the fix to the instrumentation. This QA was done towards the end of 13 May 2021 but we have not yet recorded a full day of events"
   ]
  },
  {
   "cell_type": "markdown",
   "metadata": {},
   "source": [
    "## Check that events are only recorded for the `mwSave` feature"
   ]
  },
  {
   "cell_type": "code",
   "execution_count": 31,
   "metadata": {},
   "outputs": [
    {
     "name": "stderr",
     "output_type": "stream",
     "text": [
      "`summarise()` ungrouping output (override with `.groups` argument)\n",
      "\n"
     ]
    },
    {
     "data": {
      "text/html": [
       "<table>\n",
       "<caption>A tibble: 1 × 3</caption>\n",
       "<thead>\n",
       "\t<tr><th scope=col>feature</th><th scope=col>n_events</th><th scope=col>n_sessions</th></tr>\n",
       "\t<tr><th scope=col>&lt;chr&gt;</th><th scope=col>&lt;int&gt;</th><th scope=col>&lt;int&gt;</th></tr>\n",
       "</thead>\n",
       "<tbody>\n",
       "\t<tr><td>mwSave</td><td>12409</td><td>12319</td></tr>\n",
       "</tbody>\n",
       "</table>\n"
      ],
      "text/latex": [
       "A tibble: 1 × 3\n",
       "\\begin{tabular}{lll}\n",
       " feature & n\\_events & n\\_sessions\\\\\n",
       " <chr> & <int> & <int>\\\\\n",
       "\\hline\n",
       "\t mwSave & 12409 & 12319\\\\\n",
       "\\end{tabular}\n"
      ],
      "text/markdown": [
       "\n",
       "A tibble: 1 × 3\n",
       "\n",
       "| feature &lt;chr&gt; | n_events &lt;int&gt; | n_sessions &lt;int&gt; |\n",
       "|---|---|---|\n",
       "| mwSave | 12409 | 12319 |\n",
       "\n"
      ],
      "text/plain": [
       "  feature n_events n_sessions\n",
       "1 mwSave  12409    12319     "
      ]
     },
     "metadata": {},
     "output_type": "display_data"
    }
   ],
   "source": [
    "wikitext_js_edits_byfeature <- wikitext_js_edits %>%\n",
    "    filter(action == 'source-has-js') %>%\n",
    "    group_by(feature) %>%\n",
    "    summarize(n_events = sum(num_events),\n",
    "             n_sessions = n_distinct(session_id))\n",
    "\n",
    "wikitext_js_edits_byfeature"
   ]
  },
  {
   "cell_type": "markdown",
   "metadata": {},
   "source": [
    "Confirmed that events are only recorded for the mwSave feature."
   ]
  },
  {
   "cell_type": "markdown",
   "metadata": {},
   "source": [
    "## All mwSave Actions during same time period"
   ]
  },
  {
   "cell_type": "code",
   "execution_count": 64,
   "metadata": {},
   "outputs": [
    {
     "name": "stderr",
     "output_type": "stream",
     "text": [
      "`summarise()` ungrouping output (override with `.groups` argument)\n",
      "\n"
     ]
    },
    {
     "data": {
      "text/html": [
       "<table>\n",
       "<caption>A tibble: 16 × 3</caption>\n",
       "<thead>\n",
       "\t<tr><th scope=col>action</th><th scope=col>n_events</th><th scope=col>n_sessions</th></tr>\n",
       "\t<tr><th scope=col>&lt;chr&gt;</th><th scope=col>&lt;int&gt;</th><th scope=col>&lt;int&gt;</th></tr>\n",
       "</thead>\n",
       "<tbody>\n",
       "\t<tr><td>checkbox-wpMinoredit    </td><td> 2350</td><td> 2216</td></tr>\n",
       "\t<tr><td>checkbox-wpReviewEdit   </td><td>    4</td><td>    4</td></tr>\n",
       "\t<tr><td>checkbox-wpWatchthis    </td><td>  435</td><td>  347</td></tr>\n",
       "\t<tr><td>dialog-abort            </td><td> 1385</td><td> 1071</td></tr>\n",
       "\t<tr><td>dialog-approve          </td><td>  378</td><td>  240</td></tr>\n",
       "\t<tr><td>dialog-preview          </td><td>  230</td><td>  118</td></tr>\n",
       "\t<tr><td>dialog-report           </td><td>   34</td><td>   33</td></tr>\n",
       "\t<tr><td>dialog-resolve          </td><td>  308</td><td>   83</td></tr>\n",
       "\t<tr><td>dialog-review           </td><td>  588</td><td>  491</td></tr>\n",
       "\t<tr><td>dialog-save             </td><td>12081</td><td>10687</td></tr>\n",
       "\t<tr><td>review-initial-source   </td><td>   84</td><td>   66</td></tr>\n",
       "\t<tr><td>review-initial-visual   </td><td>  503</td><td>  428</td></tr>\n",
       "\t<tr><td>review-switch-source    </td><td>  109</td><td>   88</td></tr>\n",
       "\t<tr><td>review-switch-visual    </td><td>  101</td><td>   73</td></tr>\n",
       "\t<tr><td>source-has-js           </td><td>12327</td><td>12237</td></tr>\n",
       "\t<tr><td>window-open-from-command</td><td>12230</td><td>11337</td></tr>\n",
       "</tbody>\n",
       "</table>\n"
      ],
      "text/latex": [
       "A tibble: 16 × 3\n",
       "\\begin{tabular}{lll}\n",
       " action & n\\_events & n\\_sessions\\\\\n",
       " <chr> & <int> & <int>\\\\\n",
       "\\hline\n",
       "\t checkbox-wpMinoredit     &  2350 &  2216\\\\\n",
       "\t checkbox-wpReviewEdit    &     4 &     4\\\\\n",
       "\t checkbox-wpWatchthis     &   435 &   347\\\\\n",
       "\t dialog-abort             &  1385 &  1071\\\\\n",
       "\t dialog-approve           &   378 &   240\\\\\n",
       "\t dialog-preview           &   230 &   118\\\\\n",
       "\t dialog-report            &    34 &    33\\\\\n",
       "\t dialog-resolve           &   308 &    83\\\\\n",
       "\t dialog-review            &   588 &   491\\\\\n",
       "\t dialog-save              & 12081 & 10687\\\\\n",
       "\t review-initial-source    &    84 &    66\\\\\n",
       "\t review-initial-visual    &   503 &   428\\\\\n",
       "\t review-switch-source     &   109 &    88\\\\\n",
       "\t review-switch-visual     &   101 &    73\\\\\n",
       "\t source-has-js            & 12327 & 12237\\\\\n",
       "\t window-open-from-command & 12230 & 11337\\\\\n",
       "\\end{tabular}\n"
      ],
      "text/markdown": [
       "\n",
       "A tibble: 16 × 3\n",
       "\n",
       "| action &lt;chr&gt; | n_events &lt;int&gt; | n_sessions &lt;int&gt; |\n",
       "|---|---|---|\n",
       "| checkbox-wpMinoredit     |  2350 |  2216 |\n",
       "| checkbox-wpReviewEdit    |     4 |     4 |\n",
       "| checkbox-wpWatchthis     |   435 |   347 |\n",
       "| dialog-abort             |  1385 |  1071 |\n",
       "| dialog-approve           |   378 |   240 |\n",
       "| dialog-preview           |   230 |   118 |\n",
       "| dialog-report            |    34 |    33 |\n",
       "| dialog-resolve           |   308 |    83 |\n",
       "| dialog-review            |   588 |   491 |\n",
       "| dialog-save              | 12081 | 10687 |\n",
       "| review-initial-source    |    84 |    66 |\n",
       "| review-initial-visual    |   503 |   428 |\n",
       "| review-switch-source     |   109 |    88 |\n",
       "| review-switch-visual     |   101 |    73 |\n",
       "| source-has-js            | 12327 | 12237 |\n",
       "| window-open-from-command | 12230 | 11337 |\n",
       "\n"
      ],
      "text/plain": [
       "   action                   n_events n_sessions\n",
       "1  checkbox-wpMinoredit      2350     2216     \n",
       "2  checkbox-wpReviewEdit        4        4     \n",
       "3  checkbox-wpWatchthis       435      347     \n",
       "4  dialog-abort              1385     1071     \n",
       "5  dialog-approve             378      240     \n",
       "6  dialog-preview             230      118     \n",
       "7  dialog-report               34       33     \n",
       "8  dialog-resolve             308       83     \n",
       "9  dialog-review              588      491     \n",
       "10 dialog-save              12081    10687     \n",
       "11 review-initial-source       84       66     \n",
       "12 review-initial-visual      503      428     \n",
       "13 review-switch-source       109       88     \n",
       "14 review-switch-visual       101       73     \n",
       "15 source-has-js            12327    12237     \n",
       "16 window-open-from-command 12230    11337     "
      ]
     },
     "metadata": {},
     "output_type": "display_data"
    }
   ],
   "source": [
    "mwsave_events <- wikitext_js_edits %>%\n",
    "    filter(feature == 'mwSave',\n",
    "          date == '2021-05-13' ) %>% # first full day of no js events\n",
    "    group_by(action) %>%\n",
    "    summarize(n_events = sum(num_events),\n",
    "             n_sessions = n_distinct(session_id))\n",
    "\n",
    "mwsave_events"
   ]
  },
  {
   "cell_type": "markdown",
   "metadata": {},
   "source": [
    "There were 10,687 dialog-save events and 12,237 no js save events recorded on May 13th. They should each be about as common so this appears correct - There are about 14% more no js save events. "
   ]
  },
  {
   "cell_type": "markdown",
   "metadata": {},
   "source": [
    "## By Platform and Interface"
   ]
  },
  {
   "cell_type": "code",
   "execution_count": 57,
   "metadata": {},
   "outputs": [
    {
     "name": "stderr",
     "output_type": "stream",
     "text": [
      "`summarise()` regrouping output by 'platform' (override with `.groups` argument)\n",
      "\n"
     ]
    },
    {
     "data": {
      "text/html": [
       "<table>\n",
       "<caption>A grouped_df: 1 × 3</caption>\n",
       "<thead>\n",
       "\t<tr><th scope=col>platform</th><th scope=col>interface</th><th scope=col>n_events</th></tr>\n",
       "\t<tr><th scope=col>&lt;chr&gt;</th><th scope=col>&lt;chr&gt;</th><th scope=col>&lt;int&gt;</th></tr>\n",
       "</thead>\n",
       "<tbody>\n",
       "\t<tr><td>desktop</td><td>wikitext</td><td>12409</td></tr>\n",
       "</tbody>\n",
       "</table>\n"
      ],
      "text/latex": [
       "A grouped\\_df: 1 × 3\n",
       "\\begin{tabular}{lll}\n",
       " platform & interface & n\\_events\\\\\n",
       " <chr> & <chr> & <int>\\\\\n",
       "\\hline\n",
       "\t desktop & wikitext & 12409\\\\\n",
       "\\end{tabular}\n"
      ],
      "text/markdown": [
       "\n",
       "A grouped_df: 1 × 3\n",
       "\n",
       "| platform &lt;chr&gt; | interface &lt;chr&gt; | n_events &lt;int&gt; |\n",
       "|---|---|---|\n",
       "| desktop | wikitext | 12409 |\n",
       "\n"
      ],
      "text/plain": [
       "  platform interface n_events\n",
       "1 desktop  wikitext  12409   "
      ]
     },
     "metadata": {},
     "output_type": "display_data"
    }
   ],
   "source": [
    "wikitext_js_edits_byplatform <- wikitext_js_edits %>%\n",
    "    filter(action == 'source-has-js') %>%\n",
    "    group_by(platform, interface) %>%\n",
    "    summarize(n_events = sum(num_events))\n",
    "\n",
    "wikitext_js_edits_byplatform"
   ]
  },
  {
   "cell_type": "markdown",
   "metadata": {},
   "source": [
    "Confirmed that we only record events for wikitext. No events have been recorded on mobile.\n",
    "\n",
    "I checked to see if any mobile events were recorded for dialog-save on mobile to get an idea of a normal level of mobile save events we tend to see."
   ]
  },
  {
   "cell_type": "markdown",
   "metadata": {},
   "source": [
    "## Compare Dialog-Save and Source-has-js Events by platform"
   ]
  },
  {
   "cell_type": "code",
   "execution_count": 72,
   "metadata": {},
   "outputs": [
    {
     "name": "stderr",
     "output_type": "stream",
     "text": [
      "`summarise()` regrouping output by 'platform' (override with `.groups` argument)\n",
      "\n"
     ]
    },
    {
     "data": {
      "text/html": [
       "<table>\n",
       "<caption>A grouped_df: 3 × 3</caption>\n",
       "<thead>\n",
       "\t<tr><th scope=col>platform</th><th scope=col>action</th><th scope=col>n_events</th></tr>\n",
       "\t<tr><th scope=col>&lt;chr&gt;</th><th scope=col>&lt;chr&gt;</th><th scope=col>&lt;int&gt;</th></tr>\n",
       "</thead>\n",
       "<tbody>\n",
       "\t<tr><td>desktop</td><td>dialog-save  </td><td> 2916</td></tr>\n",
       "\t<tr><td>desktop</td><td>source-has-js</td><td>12327</td></tr>\n",
       "\t<tr><td>phone  </td><td>dialog-save  </td><td> 9165</td></tr>\n",
       "</tbody>\n",
       "</table>\n"
      ],
      "text/latex": [
       "A grouped\\_df: 3 × 3\n",
       "\\begin{tabular}{lll}\n",
       " platform & action & n\\_events\\\\\n",
       " <chr> & <chr> & <int>\\\\\n",
       "\\hline\n",
       "\t desktop & dialog-save   &  2916\\\\\n",
       "\t desktop & source-has-js & 12327\\\\\n",
       "\t phone   & dialog-save   &  9165\\\\\n",
       "\\end{tabular}\n"
      ],
      "text/markdown": [
       "\n",
       "A grouped_df: 3 × 3\n",
       "\n",
       "| platform &lt;chr&gt; | action &lt;chr&gt; | n_events &lt;int&gt; |\n",
       "|---|---|---|\n",
       "| desktop | dialog-save   |  2916 |\n",
       "| desktop | source-has-js | 12327 |\n",
       "| phone   | dialog-save   |  9165 |\n",
       "\n"
      ],
      "text/plain": [
       "  platform action        n_events\n",
       "1 desktop  dialog-save    2916   \n",
       "2 desktop  source-has-js 12327   \n",
       "3 phone    dialog-save    9165   "
      ]
     },
     "metadata": {},
     "output_type": "display_data"
    }
   ],
   "source": [
    "dialog_save_byfeature <- wikitext_js_edits %>%\n",
    "    filter(action %in% c('source-has-js', 'dialog-save'),\n",
    "          date == '2021-05-13') %>%\n",
    "    group_by( platform, action) %>%\n",
    "    summarize(n_events = sum(num_events)) \n",
    "\n",
    "dialog_save_byfeature"
   ]
  },
  {
   "cell_type": "markdown",
   "metadata": {},
   "source": [
    "There were 9,165 dialog-save events on mobile during the same time. Need to confirm if this is an instrumentation error or reflect real user behavior."
   ]
  },
  {
   "cell_type": "markdown",
   "metadata": {},
   "source": [
    "## Wiki"
   ]
  },
  {
   "cell_type": "code",
   "execution_count": 45,
   "metadata": {},
   "outputs": [
    {
     "name": "stderr",
     "output_type": "stream",
     "text": [
      "`summarise()` ungrouping output (override with `.groups` argument)\n",
      "\n"
     ]
    },
    {
     "data": {
      "text/html": [
       "<table>\n",
       "<caption>A tibble: 10 × 3</caption>\n",
       "<thead>\n",
       "\t<tr><th scope=col>wiki</th><th scope=col>n_events</th><th scope=col>n_sessions</th></tr>\n",
       "\t<tr><th scope=col>&lt;chr&gt;</th><th scope=col>&lt;int&gt;</th><th scope=col>&lt;int&gt;</th></tr>\n",
       "</thead>\n",
       "<tbody>\n",
       "\t<tr><td>enwiki</td><td>55911</td><td>49936</td></tr>\n",
       "\t<tr><td>fawiki</td><td>17294</td><td>15177</td></tr>\n",
       "\t<tr><td>eswiki</td><td>15217</td><td>13504</td></tr>\n",
       "\t<tr><td>frwiki</td><td> 9717</td><td> 8747</td></tr>\n",
       "\t<tr><td>arwiki</td><td> 9692</td><td> 6123</td></tr>\n",
       "\t<tr><td>itwiki</td><td> 7888</td><td> 7138</td></tr>\n",
       "\t<tr><td>ruwiki</td><td> 7807</td><td> 7031</td></tr>\n",
       "\t<tr><td>jawiki</td><td> 7768</td><td> 7121</td></tr>\n",
       "\t<tr><td>ptwiki</td><td> 5854</td><td> 5035</td></tr>\n",
       "\t<tr><td>dewiki</td><td> 5112</td><td> 4708</td></tr>\n",
       "</tbody>\n",
       "</table>\n"
      ],
      "text/latex": [
       "A tibble: 10 × 3\n",
       "\\begin{tabular}{lll}\n",
       " wiki & n\\_events & n\\_sessions\\\\\n",
       " <chr> & <int> & <int>\\\\\n",
       "\\hline\n",
       "\t enwiki & 55911 & 49936\\\\\n",
       "\t fawiki & 17294 & 15177\\\\\n",
       "\t eswiki & 15217 & 13504\\\\\n",
       "\t frwiki &  9717 &  8747\\\\\n",
       "\t arwiki &  9692 &  6123\\\\\n",
       "\t itwiki &  7888 &  7138\\\\\n",
       "\t ruwiki &  7807 &  7031\\\\\n",
       "\t jawiki &  7768 &  7121\\\\\n",
       "\t ptwiki &  5854 &  5035\\\\\n",
       "\t dewiki &  5112 &  4708\\\\\n",
       "\\end{tabular}\n"
      ],
      "text/markdown": [
       "\n",
       "A tibble: 10 × 3\n",
       "\n",
       "| wiki &lt;chr&gt; | n_events &lt;int&gt; | n_sessions &lt;int&gt; |\n",
       "|---|---|---|\n",
       "| enwiki | 55911 | 49936 |\n",
       "| fawiki | 17294 | 15177 |\n",
       "| eswiki | 15217 | 13504 |\n",
       "| frwiki |  9717 |  8747 |\n",
       "| arwiki |  9692 |  6123 |\n",
       "| itwiki |  7888 |  7138 |\n",
       "| ruwiki |  7807 |  7031 |\n",
       "| jawiki |  7768 |  7121 |\n",
       "| ptwiki |  5854 |  5035 |\n",
       "| dewiki |  5112 |  4708 |\n",
       "\n"
      ],
      "text/plain": [
       "   wiki   n_events n_sessions\n",
       "1  enwiki 55911    49936     \n",
       "2  fawiki 17294    15177     \n",
       "3  eswiki 15217    13504     \n",
       "4  frwiki  9717     8747     \n",
       "5  arwiki  9692     6123     \n",
       "6  itwiki  7888     7138     \n",
       "7  ruwiki  7807     7031     \n",
       "8  jawiki  7768     7121     \n",
       "9  ptwiki  5854     5035     \n",
       "10 dewiki  5112     4708     "
      ]
     },
     "metadata": {},
     "output_type": "display_data"
    }
   ],
   "source": [
    "wikitext_js_edits_bywiki <- wikitext_js_edits %>%\n",
    "    filter(action == 'dialog-save') %>%\n",
    "    group_by(wiki) %>%\n",
    "    summarize(n_events = sum(num_events),\n",
    "             n_sessions = n_distinct(session_id)) %>%\n",
    "    arrange(desc(n_events))\n",
    "\n",
    "head(wikitext_js_edits_bywiki, 10)"
   ]
  },
  {
   "cell_type": "markdown",
   "metadata": {},
   "source": [
    "We've recorded events for 233 wiki projects. The larger wikis (English, German, and French) have the most total events logged as expected. A look at percentage of edits by js users for each language (which will be done in the analysis) will provide more info on how frequently non-js edits occur."
   ]
  },
  {
   "cell_type": "markdown",
   "metadata": {},
   "source": [
    "## By User "
   ]
  },
  {
   "cell_type": "code",
   "execution_count": 41,
   "metadata": {},
   "outputs": [
    {
     "name": "stderr",
     "output_type": "stream",
     "text": [
      "`summarise()` ungrouping output (override with `.groups` argument)\n",
      "\n"
     ]
    },
    {
     "data": {
      "text/html": [
       "<table>\n",
       "<caption>A tibble: 10 × 2</caption>\n",
       "<thead>\n",
       "\t<tr><th scope=col>wiki</th><th scope=col>n_users</th></tr>\n",
       "\t<tr><th scope=col>&lt;chr&gt;</th><th scope=col>&lt;int&gt;</th></tr>\n",
       "</thead>\n",
       "<tbody>\n",
       "\t<tr><td>enwiki     </td><td>1781</td></tr>\n",
       "\t<tr><td>dewiki     </td><td> 466</td></tr>\n",
       "\t<tr><td>commonswiki</td><td> 319</td></tr>\n",
       "\t<tr><td>frwiki     </td><td> 297</td></tr>\n",
       "\t<tr><td>ruwiki     </td><td> 244</td></tr>\n",
       "\t<tr><td>jawiki     </td><td> 212</td></tr>\n",
       "\t<tr><td>eswiki     </td><td> 205</td></tr>\n",
       "\t<tr><td>zhwiki     </td><td> 195</td></tr>\n",
       "\t<tr><td>itwiki     </td><td> 179</td></tr>\n",
       "\t<tr><td>nlwiki     </td><td>  97</td></tr>\n",
       "</tbody>\n",
       "</table>\n"
      ],
      "text/latex": [
       "A tibble: 10 × 2\n",
       "\\begin{tabular}{ll}\n",
       " wiki & n\\_users\\\\\n",
       " <chr> & <int>\\\\\n",
       "\\hline\n",
       "\t enwiki      & 1781\\\\\n",
       "\t dewiki      &  466\\\\\n",
       "\t commonswiki &  319\\\\\n",
       "\t frwiki      &  297\\\\\n",
       "\t ruwiki      &  244\\\\\n",
       "\t jawiki      &  212\\\\\n",
       "\t eswiki      &  205\\\\\n",
       "\t zhwiki      &  195\\\\\n",
       "\t itwiki      &  179\\\\\n",
       "\t nlwiki      &   97\\\\\n",
       "\\end{tabular}\n"
      ],
      "text/markdown": [
       "\n",
       "A tibble: 10 × 2\n",
       "\n",
       "| wiki &lt;chr&gt; | n_users &lt;int&gt; |\n",
       "|---|---|\n",
       "| enwiki      | 1781 |\n",
       "| dewiki      |  466 |\n",
       "| commonswiki |  319 |\n",
       "| frwiki      |  297 |\n",
       "| ruwiki      |  244 |\n",
       "| jawiki      |  212 |\n",
       "| eswiki      |  205 |\n",
       "| zhwiki      |  195 |\n",
       "| itwiki      |  179 |\n",
       "| nlwiki      |   97 |\n",
       "\n"
      ],
      "text/plain": [
       "   wiki        n_users\n",
       "1  enwiki      1781   \n",
       "2  dewiki       466   \n",
       "3  commonswiki  319   \n",
       "4  frwiki       297   \n",
       "5  ruwiki       244   \n",
       "6  jawiki       212   \n",
       "7  eswiki       205   \n",
       "8  zhwiki       195   \n",
       "9  itwiki       179   \n",
       "10 nlwiki        97   "
      ]
     },
     "metadata": {},
     "output_type": "display_data"
    }
   ],
   "source": [
    "wikitext_js_edits_users <- wikitext_js_edits %>%\n",
    "    filter(action == 'source-has-js',\n",
    "          user_id != 0) %>% # remove anon users\n",
    "    group_by(wiki) %>%\n",
    "    summarize(n_users = n_distinct(user_id)) %>%\n",
    "    arrange(desc(n_users))\n",
    "\n",
    "head(wikitext_js_edits_users, 10)"
   ]
  },
  {
   "cell_type": "markdown",
   "metadata": {},
   "source": [
    "Confirmed events are recorded with associated userid info. The wikis with the most events correspond with the wikis with the most users with some variation."
   ]
  },
  {
   "cell_type": "markdown",
   "metadata": {},
   "source": [
    "## By Logged In status"
   ]
  },
  {
   "cell_type": "code",
   "execution_count": 50,
   "metadata": {},
   "outputs": [
    {
     "name": "stderr",
     "output_type": "stream",
     "text": [
      "`summarise()` ungrouping output (override with `.groups` argument)\n",
      "\n"
     ]
    },
    {
     "data": {
      "text/html": [
       "<table>\n",
       "<caption>A tibble: 2 × 3</caption>\n",
       "<thead>\n",
       "\t<tr><th scope=col>is_anon</th><th scope=col>n_sessions</th><th scope=col>n_users</th></tr>\n",
       "\t<tr><th scope=col>&lt;chr&gt;</th><th scope=col>&lt;int&gt;</th><th scope=col>&lt;int&gt;</th></tr>\n",
       "</thead>\n",
       "<tbody>\n",
       "\t<tr><td>logged-in </td><td>116363</td><td>28415</td></tr>\n",
       "\t<tr><td>logged-out</td><td> 58590</td><td>    1</td></tr>\n",
       "</tbody>\n",
       "</table>\n"
      ],
      "text/latex": [
       "A tibble: 2 × 3\n",
       "\\begin{tabular}{lll}\n",
       " is\\_anon & n\\_sessions & n\\_users\\\\\n",
       " <chr> & <int> & <int>\\\\\n",
       "\\hline\n",
       "\t logged-in  & 116363 & 28415\\\\\n",
       "\t logged-out &  58590 &     1\\\\\n",
       "\\end{tabular}\n"
      ],
      "text/markdown": [
       "\n",
       "A tibble: 2 × 3\n",
       "\n",
       "| is_anon &lt;chr&gt; | n_sessions &lt;int&gt; | n_users &lt;int&gt; |\n",
       "|---|---|---|\n",
       "| logged-in  | 116363 | 28415 |\n",
       "| logged-out |  58590 |     1 |\n",
       "\n"
      ],
      "text/plain": [
       "  is_anon    n_sessions n_users\n",
       "1 logged-in  116363     28415  \n",
       "2 logged-out  58590         1  "
      ]
     },
     "metadata": {},
     "output_type": "display_data"
    }
   ],
   "source": [
    "wikitext_js_edits_users <- wikitext_js_edits %>%\n",
    "    filter(action == 'dialog-save') %>%\n",
    "    mutate(is_anon = ifelse(user_id == 0, \"logged-out\", \"logged-in\")) %>%\n",
    "    group_by(is_anon) %>%\n",
    "    summarize(n_sessions = n_distinct(session_id),\n",
    "            n_users = n_distinct(user_id))\n",
    "\n",
    "head(wikitext_js_edits_users, 10)"
   ]
  },
  {
   "cell_type": "markdown",
   "metadata": {},
   "source": [
    "The majority (85% of sessions) are recorded by logged-in users. Around 15% of all sessions with edits completed without js are logged-out. For comparison, 66% of all sessions with dialog-save events are by logged-in users. \n",
    "\n",
    "Note: The one user identifed for logged-out is because all logged-out users are given a user_id of 0. This is expected."
   ]
  }
 ],
 "metadata": {
  "kernelspec": {
   "display_name": "R",
   "language": "R",
   "name": "ir"
  },
  "language_info": {
   "codemirror_mode": "r",
   "file_extension": ".r",
   "mimetype": "text/x-r-source",
   "name": "R",
   "pygments_lexer": "r",
   "version": "3.5.2"
  }
 },
 "nbformat": 4,
 "nbformat_minor": 4
}
