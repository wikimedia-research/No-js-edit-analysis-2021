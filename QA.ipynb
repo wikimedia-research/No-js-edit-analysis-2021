{
 "cells": [
  {
   "cell_type": "markdown",
   "metadata": {},
   "source": [
    "# Post deployment QA: Wikitext no JS instrumentation\n",
    "\n",
    "[Task](https://phabricator.wikimedia.org/T281409)"
   ]
  },
  {
   "cell_type": "code",
   "execution_count": 5,
   "metadata": {},
   "outputs": [],
   "source": [
    "shhh <- function(expr) suppressPackageStartupMessages(suppressWarnings(suppressMessages(expr)))\n",
    "shhh({\n",
    "    library(tidyverse); library(wmfdata)\n",
    "})"
   ]
  },
  {
   "cell_type": "markdown",
   "metadata": {},
   "source": [
    "# Post-Deployment QA"
   ]
  },
  {
   "cell_type": "markdown",
   "metadata": {},
   "source": [
    "## Confirm that events are logging in VEFU as expected"
   ]
  },
  {
   "cell_type": "code",
   "execution_count": 31,
   "metadata": {},
   "outputs": [],
   "source": [
    "# collect May VEFU events\n",
    "query <-\n",
    "\"\n",
    "SELECT\n",
    "    TO_DATE(dt) as `date`,\n",
    "    event.editingSessionID AS session_id,\n",
    "    event.integration AS integration,\n",
    "    event.editor_interface AS interface,\n",
    "    event.platform AS platform,\n",
    "    event.user_id AS user_id,\n",
    "    event.feature AS feature,\n",
    "    event.action AS action,\n",
    "    event.is_oversample,\n",
    "    wiki AS wiki,\n",
    "    COUNT(*) AS num_events\n",
    "FROM event.visualeditorfeatureuse\n",
    "WHERE\n",
    "    YEAR = 2021\n",
    "    AND MONTH = 05\n",
    "    AND useragent.is_bot = false \n",
    "GROUP BY\n",
    "    TO_DATE(dt),\n",
    "    event.editingSessionID,\n",
    "    event.integration,\n",
    "    event.editor_interface,\n",
    "    event.is_oversample,\n",
    "    event.feature,\n",
    "    event.action,\n",
    "    event.user_id,\n",
    "    event.platform,\n",
    "    wiki\n",
    "\"\n",
    "\n"
   ]
  },
  {
   "cell_type": "code",
   "execution_count": 32,
   "metadata": {},
   "outputs": [
    {
     "name": "stderr",
     "output_type": "stream",
     "text": [
      "Don't forget to authenticate with Kerberos using kinit\n",
      "\n"
     ]
    }
   ],
   "source": [
    "wikitext_js_edits <-  wmfdata::query_hive(query)"
   ]
  },
  {
   "cell_type": "code",
   "execution_count": 33,
   "metadata": {},
   "outputs": [],
   "source": [
    "# convert date\n",
    "wikitext_js_edits$date <- as.Date(wikitext_js_edits$date)"
   ]
  },
  {
   "cell_type": "markdown",
   "metadata": {},
   "source": [
    "## By Date"
   ]
  },
  {
   "cell_type": "code",
   "execution_count": 10,
   "metadata": {},
   "outputs": [
    {
     "name": "stderr",
     "output_type": "stream",
     "text": [
      "`summarise()` ungrouping output (override with `.groups` argument)\n",
      "\n"
     ]
    },
    {
     "data": {
      "text/html": [
       "<table>\n",
       "<caption>A tibble: 16 × 3</caption>\n",
       "<thead>\n",
       "\t<tr><th scope=col>date</th><th scope=col>n_events</th><th scope=col>n_sessions</th></tr>\n",
       "\t<tr><th scope=col>&lt;date&gt;</th><th scope=col>&lt;int&gt;</th><th scope=col>&lt;int&gt;</th></tr>\n",
       "</thead>\n",
       "<tbody>\n",
       "\t<tr><td>2021-05-12</td><td>   82</td><td>   82</td></tr>\n",
       "\t<tr><td>2021-05-13</td><td>15411</td><td>15306</td></tr>\n",
       "\t<tr><td>2021-05-14</td><td>14663</td><td>14588</td></tr>\n",
       "\t<tr><td>2021-05-15</td><td>14944</td><td>14869</td></tr>\n",
       "\t<tr><td>2021-05-16</td><td>15703</td><td>15630</td></tr>\n",
       "\t<tr><td>2021-05-17</td><td>15305</td><td>15191</td></tr>\n",
       "\t<tr><td>2021-05-18</td><td>15651</td><td>15549</td></tr>\n",
       "\t<tr><td>2021-05-19</td><td>15384</td><td>15252</td></tr>\n",
       "\t<tr><td>2021-05-20</td><td>15471</td><td>15380</td></tr>\n",
       "\t<tr><td>2021-05-21</td><td>15347</td><td>15257</td></tr>\n",
       "\t<tr><td>2021-05-22</td><td>14820</td><td>14760</td></tr>\n",
       "\t<tr><td>2021-05-23</td><td>15974</td><td>15896</td></tr>\n",
       "\t<tr><td>2021-05-24</td><td>16396</td><td>16310</td></tr>\n",
       "\t<tr><td>2021-05-25</td><td>15475</td><td>15377</td></tr>\n",
       "\t<tr><td>2021-05-26</td><td>15472</td><td>15370</td></tr>\n",
       "\t<tr><td>2021-05-27</td><td> 9599</td><td> 9506</td></tr>\n",
       "</tbody>\n",
       "</table>\n"
      ],
      "text/latex": [
       "A tibble: 16 × 3\n",
       "\\begin{tabular}{lll}\n",
       " date & n\\_events & n\\_sessions\\\\\n",
       " <date> & <int> & <int>\\\\\n",
       "\\hline\n",
       "\t 2021-05-12 &    82 &    82\\\\\n",
       "\t 2021-05-13 & 15411 & 15306\\\\\n",
       "\t 2021-05-14 & 14663 & 14588\\\\\n",
       "\t 2021-05-15 & 14944 & 14869\\\\\n",
       "\t 2021-05-16 & 15703 & 15630\\\\\n",
       "\t 2021-05-17 & 15305 & 15191\\\\\n",
       "\t 2021-05-18 & 15651 & 15549\\\\\n",
       "\t 2021-05-19 & 15384 & 15252\\\\\n",
       "\t 2021-05-20 & 15471 & 15380\\\\\n",
       "\t 2021-05-21 & 15347 & 15257\\\\\n",
       "\t 2021-05-22 & 14820 & 14760\\\\\n",
       "\t 2021-05-23 & 15974 & 15896\\\\\n",
       "\t 2021-05-24 & 16396 & 16310\\\\\n",
       "\t 2021-05-25 & 15475 & 15377\\\\\n",
       "\t 2021-05-26 & 15472 & 15370\\\\\n",
       "\t 2021-05-27 &  9599 &  9506\\\\\n",
       "\\end{tabular}\n"
      ],
      "text/markdown": [
       "\n",
       "A tibble: 16 × 3\n",
       "\n",
       "| date &lt;date&gt; | n_events &lt;int&gt; | n_sessions &lt;int&gt; |\n",
       "|---|---|---|\n",
       "| 2021-05-12 |    82 |    82 |\n",
       "| 2021-05-13 | 15411 | 15306 |\n",
       "| 2021-05-14 | 14663 | 14588 |\n",
       "| 2021-05-15 | 14944 | 14869 |\n",
       "| 2021-05-16 | 15703 | 15630 |\n",
       "| 2021-05-17 | 15305 | 15191 |\n",
       "| 2021-05-18 | 15651 | 15549 |\n",
       "| 2021-05-19 | 15384 | 15252 |\n",
       "| 2021-05-20 | 15471 | 15380 |\n",
       "| 2021-05-21 | 15347 | 15257 |\n",
       "| 2021-05-22 | 14820 | 14760 |\n",
       "| 2021-05-23 | 15974 | 15896 |\n",
       "| 2021-05-24 | 16396 | 16310 |\n",
       "| 2021-05-25 | 15475 | 15377 |\n",
       "| 2021-05-26 | 15472 | 15370 |\n",
       "| 2021-05-27 |  9599 |  9506 |\n",
       "\n"
      ],
      "text/plain": [
       "   date       n_events n_sessions\n",
       "1  2021-05-12    82       82     \n",
       "2  2021-05-13 15411    15306     \n",
       "3  2021-05-14 14663    14588     \n",
       "4  2021-05-15 14944    14869     \n",
       "5  2021-05-16 15703    15630     \n",
       "6  2021-05-17 15305    15191     \n",
       "7  2021-05-18 15651    15549     \n",
       "8  2021-05-19 15384    15252     \n",
       "9  2021-05-20 15471    15380     \n",
       "10 2021-05-21 15347    15257     \n",
       "11 2021-05-22 14820    14760     \n",
       "12 2021-05-23 15974    15896     \n",
       "13 2021-05-24 16396    16310     \n",
       "14 2021-05-25 15475    15377     \n",
       "15 2021-05-26 15472    15370     \n",
       "16 2021-05-27  9599     9506     "
      ]
     },
     "metadata": {},
     "output_type": "display_data"
    }
   ],
   "source": [
    "# Daily events\n",
    "wikitext_js_edits_bydate <- wikitext_js_edits %>%\n",
    "    filter(action == 'source-has-js') %>%\n",
    "    group_by(date) %>%\n",
    "    summarize(n_events = sum(num_events),\n",
    "             n_sessions = n_distinct(session_id))\n",
    "\n",
    "wikitext_js_edits_bydate"
   ]
  },
  {
   "cell_type": "markdown",
   "metadata": {},
   "source": [
    "We have recorded a total of 25,492 events and 25,336 sessions by users with JS to date (12 May to 14 May 2021). We started recording events on 12 May 2021 following the deployment of the fix to the instrumentation. This QA was done towards the end of 13 May 2021 but we have not yet recorded a full day of events"
   ]
  },
  {
   "cell_type": "markdown",
   "metadata": {},
   "source": [
    "## Check that events are only recorded for the `mwSave` feature"
   ]
  },
  {
   "cell_type": "code",
   "execution_count": 11,
   "metadata": {},
   "outputs": [
    {
     "name": "stderr",
     "output_type": "stream",
     "text": [
      "`summarise()` ungrouping output (override with `.groups` argument)\n",
      "\n"
     ]
    },
    {
     "data": {
      "text/html": [
       "<table>\n",
       "<caption>A tibble: 1 × 4</caption>\n",
       "<thead>\n",
       "\t<tr><th scope=col>feature</th><th scope=col>n_events</th><th scope=col>n_sessions</th><th scope=col>n_users</th></tr>\n",
       "\t<tr><th scope=col>&lt;chr&gt;</th><th scope=col>&lt;int&gt;</th><th scope=col>&lt;int&gt;</th><th scope=col>&lt;int&gt;</th></tr>\n",
       "</thead>\n",
       "<tbody>\n",
       "\t<tr><td>mwSave</td><td>225697</td><td>224320</td><td>37517</td></tr>\n",
       "</tbody>\n",
       "</table>\n"
      ],
      "text/latex": [
       "A tibble: 1 × 4\n",
       "\\begin{tabular}{llll}\n",
       " feature & n\\_events & n\\_sessions & n\\_users\\\\\n",
       " <chr> & <int> & <int> & <int>\\\\\n",
       "\\hline\n",
       "\t mwSave & 225697 & 224320 & 37517\\\\\n",
       "\\end{tabular}\n"
      ],
      "text/markdown": [
       "\n",
       "A tibble: 1 × 4\n",
       "\n",
       "| feature &lt;chr&gt; | n_events &lt;int&gt; | n_sessions &lt;int&gt; | n_users &lt;int&gt; |\n",
       "|---|---|---|---|\n",
       "| mwSave | 225697 | 224320 | 37517 |\n",
       "\n"
      ],
      "text/plain": [
       "  feature n_events n_sessions n_users\n",
       "1 mwSave  225697   224320     37517  "
      ]
     },
     "metadata": {},
     "output_type": "display_data"
    }
   ],
   "source": [
    "wikitext_js_edits_byfeature <- wikitext_js_edits %>%\n",
    "    filter(action == 'source-has-js') %>%\n",
    "    group_by(feature) %>%\n",
    "    summarize(n_events = sum(num_events),\n",
    "             n_sessions = n_distinct(session_id),\n",
    "            n_users = n_distinct(user_id))\n",
    "\n",
    "wikitext_js_edits_byfeature"
   ]
  },
  {
   "cell_type": "markdown",
   "metadata": {},
   "source": [
    "Confirmed that events are only recorded for the mwSave feature."
   ]
  },
  {
   "cell_type": "markdown",
   "metadata": {},
   "source": [
    "## All mwSave Actions during same time period"
   ]
  },
  {
   "cell_type": "code",
   "execution_count": 12,
   "metadata": {},
   "outputs": [
    {
     "name": "stderr",
     "output_type": "stream",
     "text": [
      "`summarise()` ungrouping output (override with `.groups` argument)\n",
      "\n"
     ]
    },
    {
     "data": {
      "text/html": [
       "<table>\n",
       "<caption>A tibble: 16 × 3</caption>\n",
       "<thead>\n",
       "\t<tr><th scope=col>action</th><th scope=col>n_events</th><th scope=col>n_sessions</th></tr>\n",
       "\t<tr><th scope=col>&lt;chr&gt;</th><th scope=col>&lt;int&gt;</th><th scope=col>&lt;int&gt;</th></tr>\n",
       "</thead>\n",
       "<tbody>\n",
       "\t<tr><td>checkbox-wpMinoredit    </td><td> 2949</td><td> 2781</td></tr>\n",
       "\t<tr><td>checkbox-wpReviewEdit   </td><td>    5</td><td>    5</td></tr>\n",
       "\t<tr><td>checkbox-wpWatchthis    </td><td>  568</td><td>  456</td></tr>\n",
       "\t<tr><td>dialog-abort            </td><td> 1768</td><td> 1370</td></tr>\n",
       "\t<tr><td>dialog-approve          </td><td>  512</td><td>  316</td></tr>\n",
       "\t<tr><td>dialog-preview          </td><td>  301</td><td>  155</td></tr>\n",
       "\t<tr><td>dialog-report           </td><td>   57</td><td>   53</td></tr>\n",
       "\t<tr><td>dialog-resolve          </td><td>  380</td><td>  102</td></tr>\n",
       "\t<tr><td>dialog-review           </td><td>  812</td><td>  673</td></tr>\n",
       "\t<tr><td>dialog-save             </td><td>15258</td><td>13531</td></tr>\n",
       "\t<tr><td>review-initial-source   </td><td>  126</td><td>   89</td></tr>\n",
       "\t<tr><td>review-initial-visual   </td><td>  685</td><td>  591</td></tr>\n",
       "\t<tr><td>review-switch-source    </td><td>  136</td><td>  112</td></tr>\n",
       "\t<tr><td>review-switch-visual    </td><td>  125</td><td>   92</td></tr>\n",
       "\t<tr><td>source-has-js           </td><td>15411</td><td>15306</td></tr>\n",
       "\t<tr><td>window-open-from-command</td><td>15517</td><td>14373</td></tr>\n",
       "</tbody>\n",
       "</table>\n"
      ],
      "text/latex": [
       "A tibble: 16 × 3\n",
       "\\begin{tabular}{lll}\n",
       " action & n\\_events & n\\_sessions\\\\\n",
       " <chr> & <int> & <int>\\\\\n",
       "\\hline\n",
       "\t checkbox-wpMinoredit     &  2949 &  2781\\\\\n",
       "\t checkbox-wpReviewEdit    &     5 &     5\\\\\n",
       "\t checkbox-wpWatchthis     &   568 &   456\\\\\n",
       "\t dialog-abort             &  1768 &  1370\\\\\n",
       "\t dialog-approve           &   512 &   316\\\\\n",
       "\t dialog-preview           &   301 &   155\\\\\n",
       "\t dialog-report            &    57 &    53\\\\\n",
       "\t dialog-resolve           &   380 &   102\\\\\n",
       "\t dialog-review            &   812 &   673\\\\\n",
       "\t dialog-save              & 15258 & 13531\\\\\n",
       "\t review-initial-source    &   126 &    89\\\\\n",
       "\t review-initial-visual    &   685 &   591\\\\\n",
       "\t review-switch-source     &   136 &   112\\\\\n",
       "\t review-switch-visual     &   125 &    92\\\\\n",
       "\t source-has-js            & 15411 & 15306\\\\\n",
       "\t window-open-from-command & 15517 & 14373\\\\\n",
       "\\end{tabular}\n"
      ],
      "text/markdown": [
       "\n",
       "A tibble: 16 × 3\n",
       "\n",
       "| action &lt;chr&gt; | n_events &lt;int&gt; | n_sessions &lt;int&gt; |\n",
       "|---|---|---|\n",
       "| checkbox-wpMinoredit     |  2949 |  2781 |\n",
       "| checkbox-wpReviewEdit    |     5 |     5 |\n",
       "| checkbox-wpWatchthis     |   568 |   456 |\n",
       "| dialog-abort             |  1768 |  1370 |\n",
       "| dialog-approve           |   512 |   316 |\n",
       "| dialog-preview           |   301 |   155 |\n",
       "| dialog-report            |    57 |    53 |\n",
       "| dialog-resolve           |   380 |   102 |\n",
       "| dialog-review            |   812 |   673 |\n",
       "| dialog-save              | 15258 | 13531 |\n",
       "| review-initial-source    |   126 |    89 |\n",
       "| review-initial-visual    |   685 |   591 |\n",
       "| review-switch-source     |   136 |   112 |\n",
       "| review-switch-visual     |   125 |    92 |\n",
       "| source-has-js            | 15411 | 15306 |\n",
       "| window-open-from-command | 15517 | 14373 |\n",
       "\n"
      ],
      "text/plain": [
       "   action                   n_events n_sessions\n",
       "1  checkbox-wpMinoredit      2949     2781     \n",
       "2  checkbox-wpReviewEdit        5        5     \n",
       "3  checkbox-wpWatchthis       568      456     \n",
       "4  dialog-abort              1768     1370     \n",
       "5  dialog-approve             512      316     \n",
       "6  dialog-preview             301      155     \n",
       "7  dialog-report               57       53     \n",
       "8  dialog-resolve             380      102     \n",
       "9  dialog-review              812      673     \n",
       "10 dialog-save              15258    13531     \n",
       "11 review-initial-source      126       89     \n",
       "12 review-initial-visual      685      591     \n",
       "13 review-switch-source       136      112     \n",
       "14 review-switch-visual       125       92     \n",
       "15 source-has-js            15411    15306     \n",
       "16 window-open-from-command 15517    14373     "
      ]
     },
     "metadata": {},
     "output_type": "display_data"
    }
   ],
   "source": [
    "mwsave_events <- wikitext_js_edits %>%\n",
    "    filter(feature == 'mwSave',\n",
    "          date == '2021-05-13' ) %>% # first full day of no js events\n",
    "    group_by(action) %>%\n",
    "    summarize(n_events = sum(num_events),\n",
    "             n_sessions = n_distinct(session_id))\n",
    "\n",
    "mwsave_events"
   ]
  },
  {
   "cell_type": "markdown",
   "metadata": {},
   "source": [
    "There were 10,687 dialog-save events and 12,237 js save events recorded on May 13th. They should each be about as common so this appears correct - There are about 14% more js save events. "
   ]
  },
  {
   "cell_type": "markdown",
   "metadata": {},
   "source": [
    "## By Platform and Interface"
   ]
  },
  {
   "cell_type": "code",
   "execution_count": 13,
   "metadata": {},
   "outputs": [
    {
     "name": "stderr",
     "output_type": "stream",
     "text": [
      "`summarise()` regrouping output by 'platform' (override with `.groups` argument)\n",
      "\n"
     ]
    },
    {
     "data": {
      "text/html": [
       "<table>\n",
       "<caption>A grouped_df: 1 × 3</caption>\n",
       "<thead>\n",
       "\t<tr><th scope=col>platform</th><th scope=col>interface</th><th scope=col>n_events</th></tr>\n",
       "\t<tr><th scope=col>&lt;chr&gt;</th><th scope=col>&lt;chr&gt;</th><th scope=col>&lt;int&gt;</th></tr>\n",
       "</thead>\n",
       "<tbody>\n",
       "\t<tr><td>desktop</td><td>wikitext</td><td>225697</td></tr>\n",
       "</tbody>\n",
       "</table>\n"
      ],
      "text/latex": [
       "A grouped\\_df: 1 × 3\n",
       "\\begin{tabular}{lll}\n",
       " platform & interface & n\\_events\\\\\n",
       " <chr> & <chr> & <int>\\\\\n",
       "\\hline\n",
       "\t desktop & wikitext & 225697\\\\\n",
       "\\end{tabular}\n"
      ],
      "text/markdown": [
       "\n",
       "A grouped_df: 1 × 3\n",
       "\n",
       "| platform &lt;chr&gt; | interface &lt;chr&gt; | n_events &lt;int&gt; |\n",
       "|---|---|---|\n",
       "| desktop | wikitext | 225697 |\n",
       "\n"
      ],
      "text/plain": [
       "  platform interface n_events\n",
       "1 desktop  wikitext  225697  "
      ]
     },
     "metadata": {},
     "output_type": "display_data"
    }
   ],
   "source": [
    "wikitext_js_edits_byplatform <- wikitext_js_edits %>%\n",
    "    filter(action == 'source-has-js') %>%\n",
    "    group_by(platform, interface) %>%\n",
    "    summarize(n_events = sum(num_events))\n",
    "\n",
    "wikitext_js_edits_byplatform"
   ]
  },
  {
   "cell_type": "markdown",
   "metadata": {},
   "source": [
    "Confirmed that we only record events for wikitext. No events have been recorded on mobile.\n",
    "\n",
    "I checked to see if any mobile events were recorded for dialog-save on mobile to get an idea of a normal level of mobile save events we tend to see."
   ]
  },
  {
   "cell_type": "markdown",
   "metadata": {},
   "source": [
    "## Compare Dialog-Save and Source-has-js Events by platform"
   ]
  },
  {
   "cell_type": "code",
   "execution_count": 14,
   "metadata": {},
   "outputs": [
    {
     "name": "stderr",
     "output_type": "stream",
     "text": [
      "`summarise()` regrouping output by 'platform' (override with `.groups` argument)\n",
      "\n"
     ]
    },
    {
     "data": {
      "text/html": [
       "<table>\n",
       "<caption>A grouped_df: 3 × 3</caption>\n",
       "<thead>\n",
       "\t<tr><th scope=col>platform</th><th scope=col>action</th><th scope=col>n_events</th></tr>\n",
       "\t<tr><th scope=col>&lt;chr&gt;</th><th scope=col>&lt;chr&gt;</th><th scope=col>&lt;int&gt;</th></tr>\n",
       "</thead>\n",
       "<tbody>\n",
       "\t<tr><td>desktop</td><td>dialog-save  </td><td> 3665</td></tr>\n",
       "\t<tr><td>desktop</td><td>source-has-js</td><td>15411</td></tr>\n",
       "\t<tr><td>phone  </td><td>dialog-save  </td><td>11593</td></tr>\n",
       "</tbody>\n",
       "</table>\n"
      ],
      "text/latex": [
       "A grouped\\_df: 3 × 3\n",
       "\\begin{tabular}{lll}\n",
       " platform & action & n\\_events\\\\\n",
       " <chr> & <chr> & <int>\\\\\n",
       "\\hline\n",
       "\t desktop & dialog-save   &  3665\\\\\n",
       "\t desktop & source-has-js & 15411\\\\\n",
       "\t phone   & dialog-save   & 11593\\\\\n",
       "\\end{tabular}\n"
      ],
      "text/markdown": [
       "\n",
       "A grouped_df: 3 × 3\n",
       "\n",
       "| platform &lt;chr&gt; | action &lt;chr&gt; | n_events &lt;int&gt; |\n",
       "|---|---|---|\n",
       "| desktop | dialog-save   |  3665 |\n",
       "| desktop | source-has-js | 15411 |\n",
       "| phone   | dialog-save   | 11593 |\n",
       "\n"
      ],
      "text/plain": [
       "  platform action        n_events\n",
       "1 desktop  dialog-save    3665   \n",
       "2 desktop  source-has-js 15411   \n",
       "3 phone    dialog-save   11593   "
      ]
     },
     "metadata": {},
     "output_type": "display_data"
    }
   ],
   "source": [
    "dialog_save_byfeature <- wikitext_js_edits %>%\n",
    "    filter(action %in% c('source-has-js', 'dialog-save'),\n",
    "          date == '2021-05-13') %>%\n",
    "    group_by( platform, action) %>%\n",
    "    summarize(n_events = sum(num_events)) \n",
    "\n",
    "dialog_save_byfeature"
   ]
  },
  {
   "cell_type": "markdown",
   "metadata": {},
   "source": [
    "There were 9,165 dialog-save events on mobile during the same time. Need to confirm if this is an instrumentation error or reflect real user behavior.\n",
    "\n",
    "Update: Confirmed that this is expexcted. WikiEditor only logs events as being desktop. See [T249944](https://phabricator.wikimedia.org/T249944) for a discussion of the issue."
   ]
  },
  {
   "cell_type": "markdown",
   "metadata": {},
   "source": [
    "## Wiki"
   ]
  },
  {
   "cell_type": "code",
   "execution_count": 15,
   "metadata": {},
   "outputs": [
    {
     "name": "stderr",
     "output_type": "stream",
     "text": [
      "`summarise()` ungrouping output (override with `.groups` argument)\n",
      "\n"
     ]
    },
    {
     "data": {
      "text/html": [
       "<table>\n",
       "<caption>A tibble: 6 × 3</caption>\n",
       "<thead>\n",
       "\t<tr><th scope=col>wiki</th><th scope=col>n_events</th><th scope=col>n_sessions</th></tr>\n",
       "\t<tr><th scope=col>&lt;chr&gt;</th><th scope=col>&lt;int&gt;</th><th scope=col>&lt;int&gt;</th></tr>\n",
       "</thead>\n",
       "<tbody>\n",
       "\t<tr><td>enwiki</td><td>119230</td><td>106909</td></tr>\n",
       "\t<tr><td>eswiki</td><td> 32454</td><td> 28936</td></tr>\n",
       "\t<tr><td>fawiki</td><td> 27368</td><td> 23868</td></tr>\n",
       "\t<tr><td>arwiki</td><td> 20893</td><td> 12905</td></tr>\n",
       "\t<tr><td>frwiki</td><td> 19896</td><td> 17970</td></tr>\n",
       "\t<tr><td>itwiki</td><td> 16700</td><td> 15113</td></tr>\n",
       "</tbody>\n",
       "</table>\n"
      ],
      "text/latex": [
       "A tibble: 6 × 3\n",
       "\\begin{tabular}{lll}\n",
       " wiki & n\\_events & n\\_sessions\\\\\n",
       " <chr> & <int> & <int>\\\\\n",
       "\\hline\n",
       "\t enwiki & 119230 & 106909\\\\\n",
       "\t eswiki &  32454 &  28936\\\\\n",
       "\t fawiki &  27368 &  23868\\\\\n",
       "\t arwiki &  20893 &  12905\\\\\n",
       "\t frwiki &  19896 &  17970\\\\\n",
       "\t itwiki &  16700 &  15113\\\\\n",
       "\\end{tabular}\n"
      ],
      "text/markdown": [
       "\n",
       "A tibble: 6 × 3\n",
       "\n",
       "| wiki &lt;chr&gt; | n_events &lt;int&gt; | n_sessions &lt;int&gt; |\n",
       "|---|---|---|\n",
       "| enwiki | 119230 | 106909 |\n",
       "| eswiki |  32454 |  28936 |\n",
       "| fawiki |  27368 |  23868 |\n",
       "| arwiki |  20893 |  12905 |\n",
       "| frwiki |  19896 |  17970 |\n",
       "| itwiki |  16700 |  15113 |\n",
       "\n"
      ],
      "text/plain": [
       "  wiki   n_events n_sessions\n",
       "1 enwiki 119230   106909    \n",
       "2 eswiki  32454    28936    \n",
       "3 fawiki  27368    23868    \n",
       "4 arwiki  20893    12905    \n",
       "5 frwiki  19896    17970    \n",
       "6 itwiki  16700    15113    "
      ]
     },
     "metadata": {},
     "output_type": "display_data"
    }
   ],
   "source": [
    "wikitext_js_edits_bywiki <- wikitext_js_edits %>%\n",
    "    filter(action == 'dialog-save') %>%\n",
    "    group_by(wiki) %>%\n",
    "    summarize(n_events = sum(num_events),\n",
    "             n_sessions = n_distinct(session_id)) %>%\n",
    "    arrange(desc(n_events))\n",
    "\n",
    "head(wikitext_js_edits_bywiki)"
   ]
  },
  {
   "cell_type": "markdown",
   "metadata": {},
   "source": [
    "We've recorded events for 233 wiki projects. The larger wikis (English, German, and French) have the most total events logged as expected. A look at the percentage of all edits by js vs non js users for each project (which will be done in the analysis) will provide more info on how frequently non-js edits occur."
   ]
  },
  {
   "cell_type": "markdown",
   "metadata": {},
   "source": [
    "## By User "
   ]
  },
  {
   "cell_type": "code",
   "execution_count": 16,
   "metadata": {},
   "outputs": [
    {
     "name": "stderr",
     "output_type": "stream",
     "text": [
      "`summarise()` ungrouping output (override with `.groups` argument)\n",
      "\n"
     ]
    },
    {
     "data": {
      "text/html": [
       "<table>\n",
       "<caption>A tibble: 10 × 2</caption>\n",
       "<thead>\n",
       "\t<tr><th scope=col>wiki</th><th scope=col>n_users</th></tr>\n",
       "\t<tr><th scope=col>&lt;chr&gt;</th><th scope=col>&lt;int&gt;</th></tr>\n",
       "</thead>\n",
       "<tbody>\n",
       "\t<tr><td>enwiki     </td><td>14093</td></tr>\n",
       "\t<tr><td>dewiki     </td><td> 2714</td></tr>\n",
       "\t<tr><td>commonswiki</td><td> 2368</td></tr>\n",
       "\t<tr><td>frwiki     </td><td> 1873</td></tr>\n",
       "\t<tr><td>jawiki     </td><td> 1686</td></tr>\n",
       "\t<tr><td>eswiki     </td><td> 1526</td></tr>\n",
       "\t<tr><td>ruwiki     </td><td> 1458</td></tr>\n",
       "\t<tr><td>zhwiki     </td><td> 1257</td></tr>\n",
       "\t<tr><td>itwiki     </td><td> 1019</td></tr>\n",
       "\t<tr><td>ptwiki     </td><td>  639</td></tr>\n",
       "</tbody>\n",
       "</table>\n"
      ],
      "text/latex": [
       "A tibble: 10 × 2\n",
       "\\begin{tabular}{ll}\n",
       " wiki & n\\_users\\\\\n",
       " <chr> & <int>\\\\\n",
       "\\hline\n",
       "\t enwiki      & 14093\\\\\n",
       "\t dewiki      &  2714\\\\\n",
       "\t commonswiki &  2368\\\\\n",
       "\t frwiki      &  1873\\\\\n",
       "\t jawiki      &  1686\\\\\n",
       "\t eswiki      &  1526\\\\\n",
       "\t ruwiki      &  1458\\\\\n",
       "\t zhwiki      &  1257\\\\\n",
       "\t itwiki      &  1019\\\\\n",
       "\t ptwiki      &   639\\\\\n",
       "\\end{tabular}\n"
      ],
      "text/markdown": [
       "\n",
       "A tibble: 10 × 2\n",
       "\n",
       "| wiki &lt;chr&gt; | n_users &lt;int&gt; |\n",
       "|---|---|\n",
       "| enwiki      | 14093 |\n",
       "| dewiki      |  2714 |\n",
       "| commonswiki |  2368 |\n",
       "| frwiki      |  1873 |\n",
       "| jawiki      |  1686 |\n",
       "| eswiki      |  1526 |\n",
       "| ruwiki      |  1458 |\n",
       "| zhwiki      |  1257 |\n",
       "| itwiki      |  1019 |\n",
       "| ptwiki      |   639 |\n",
       "\n"
      ],
      "text/plain": [
       "   wiki        n_users\n",
       "1  enwiki      14093  \n",
       "2  dewiki       2714  \n",
       "3  commonswiki  2368  \n",
       "4  frwiki       1873  \n",
       "5  jawiki       1686  \n",
       "6  eswiki       1526  \n",
       "7  ruwiki       1458  \n",
       "8  zhwiki       1257  \n",
       "9  itwiki       1019  \n",
       "10 ptwiki        639  "
      ]
     },
     "metadata": {},
     "output_type": "display_data"
    }
   ],
   "source": [
    "wikitext_js_edits_users <- wikitext_js_edits %>%\n",
    "    filter(action == 'source-has-js',\n",
    "          user_id != 0) %>% # remove anon users\n",
    "    group_by(wiki) %>%\n",
    "    summarize(n_users = n_distinct(user_id)) %>%\n",
    "    arrange(desc(n_users))\n",
    "\n",
    "head(wikitext_js_edits_users, 10)"
   ]
  },
  {
   "cell_type": "markdown",
   "metadata": {},
   "source": [
    "Confirmed events are recorded with associated userid info. The wikis with the most events correspond with the wikis with the most users with some variation."
   ]
  },
  {
   "cell_type": "markdown",
   "metadata": {},
   "source": [
    "## By Logged In status"
   ]
  },
  {
   "cell_type": "code",
   "execution_count": 17,
   "metadata": {},
   "outputs": [
    {
     "name": "stderr",
     "output_type": "stream",
     "text": [
      "`summarise()` ungrouping output (override with `.groups` argument)\n",
      "\n"
     ]
    },
    {
     "data": {
      "text/html": [
       "<table>\n",
       "<caption>A tibble: 2 × 3</caption>\n",
       "<thead>\n",
       "\t<tr><th scope=col>is_anon</th><th scope=col>n_sessions</th><th scope=col>n_users</th></tr>\n",
       "\t<tr><th scope=col>&lt;chr&gt;</th><th scope=col>&lt;int&gt;</th><th scope=col>&lt;int&gt;</th></tr>\n",
       "</thead>\n",
       "<tbody>\n",
       "\t<tr><td>logged-in </td><td>238202</td><td>51690</td></tr>\n",
       "\t<tr><td>logged-out</td><td>123450</td><td>    1</td></tr>\n",
       "</tbody>\n",
       "</table>\n"
      ],
      "text/latex": [
       "A tibble: 2 × 3\n",
       "\\begin{tabular}{lll}\n",
       " is\\_anon & n\\_sessions & n\\_users\\\\\n",
       " <chr> & <int> & <int>\\\\\n",
       "\\hline\n",
       "\t logged-in  & 238202 & 51690\\\\\n",
       "\t logged-out & 123450 &     1\\\\\n",
       "\\end{tabular}\n"
      ],
      "text/markdown": [
       "\n",
       "A tibble: 2 × 3\n",
       "\n",
       "| is_anon &lt;chr&gt; | n_sessions &lt;int&gt; | n_users &lt;int&gt; |\n",
       "|---|---|---|\n",
       "| logged-in  | 238202 | 51690 |\n",
       "| logged-out | 123450 |     1 |\n",
       "\n"
      ],
      "text/plain": [
       "  is_anon    n_sessions n_users\n",
       "1 logged-in  238202     51690  \n",
       "2 logged-out 123450         1  "
      ]
     },
     "metadata": {},
     "output_type": "display_data"
    }
   ],
   "source": [
    "wikitext_js_edits_users <- wikitext_js_edits %>%\n",
    "    filter(action == 'dialog-save') %>%\n",
    "    mutate(is_anon = ifelse(user_id == 0, \"logged-out\", \"logged-in\")) %>%\n",
    "    group_by(is_anon) %>%\n",
    "    summarize(n_sessions = n_distinct(session_id),\n",
    "            n_users = n_distinct(user_id))\n",
    "\n",
    "head(wikitext_js_edits_users, 10)"
   ]
  },
  {
   "cell_type": "markdown",
   "metadata": {},
   "source": [
    "The majority (66% of sessions) are recorded by logged-in users. Around 33% of all sessions with edits completed with js are logged-out. This is comparable to the trends seen for dialog-save events as well. \n",
    "\n",
    "Note: The one user identifed for logged-out is because all logged-out users are given a user_id of 0. This is expected."
   ]
  },
  {
   "cell_type": "code",
   "execution_count": null,
   "metadata": {},
   "outputs": [],
   "source": [
    "# By Integration"
   ]
  },
  {
   "cell_type": "code",
   "execution_count": 18,
   "metadata": {},
   "outputs": [
    {
     "name": "stderr",
     "output_type": "stream",
     "text": [
      "`summarise()` ungrouping output (override with `.groups` argument)\n",
      "\n"
     ]
    },
    {
     "data": {
      "text/html": [
       "<table>\n",
       "<caption>A tibble: 1 × 3</caption>\n",
       "<thead>\n",
       "\t<tr><th scope=col>integration</th><th scope=col>n_sessions</th><th scope=col>n_users</th></tr>\n",
       "\t<tr><th scope=col>&lt;chr&gt;</th><th scope=col>&lt;int&gt;</th><th scope=col>&lt;int&gt;</th></tr>\n",
       "</thead>\n",
       "<tbody>\n",
       "\t<tr><td>page</td><td>224320</td><td>37517</td></tr>\n",
       "</tbody>\n",
       "</table>\n"
      ],
      "text/latex": [
       "A tibble: 1 × 3\n",
       "\\begin{tabular}{lll}\n",
       " integration & n\\_sessions & n\\_users\\\\\n",
       " <chr> & <int> & <int>\\\\\n",
       "\\hline\n",
       "\t page & 224320 & 37517\\\\\n",
       "\\end{tabular}\n"
      ],
      "text/markdown": [
       "\n",
       "A tibble: 1 × 3\n",
       "\n",
       "| integration &lt;chr&gt; | n_sessions &lt;int&gt; | n_users &lt;int&gt; |\n",
       "|---|---|---|\n",
       "| page | 224320 | 37517 |\n",
       "\n"
      ],
      "text/plain": [
       "  integration n_sessions n_users\n",
       "1 page        224320     37517  "
      ]
     },
     "metadata": {},
     "output_type": "display_data"
    }
   ],
   "source": [
    "wikitext_js_edits_byintegration <- wikitext_js_edits %>%\n",
    "    filter(action == 'source-has-js') %>%\n",
    "    group_by(integration) %>%\n",
    "    summarize(n_sessions = n_distinct(session_id),\n",
    "            n_users = n_distinct(user_id))\n",
    "\n",
    "wikitext_js_edits_byintegration"
   ]
  },
  {
   "cell_type": "markdown",
   "metadata": {},
   "source": [
    "All events are recorded for page integration (e.g. no discussiontool, flow or app events)"
   ]
  },
  {
   "cell_type": "markdown",
   "metadata": {},
   "source": [
    "# Join with EditAttemptStep to confirm edits are saved"
   ]
  },
  {
   "cell_type": "code",
   "execution_count": 21,
   "metadata": {},
   "outputs": [],
   "source": [
    "\n",
    "query <-\n",
    "\"\n",
    "--- collect all saved wikitext edits\n",
    "WITH edits_saved AS(\n",
    "SELECT DISTINCT\n",
    "    event.editing_session_id AS session_id\n",
    "FROM event.editattemptstep\n",
    "WHERE \n",
    "    YEAR = 2021\n",
    "    AND month = 05\n",
    "    AND useragent.is_bot = false \n",
    "    AND event.action = 'saveSuccess'\n",
    "    AND event.editor_interface = 'wikitext'\n",
    ")\n",
    "SELECT\n",
    "    TO_DATE(dt) as `date`,\n",
    "    event.editingSessionID AS session_id,\n",
    "    event.user_id AS user_id,\n",
    "    wiki AS wiki,\n",
    "    IF(edits_saved.session_id is NULL, 'not_saved', 'saved') AS is_saved,\n",
    "    COUNT(*) AS num_events\n",
    "FROM event.visualeditorfeatureuse vefu\n",
    "LEFT JOIN edits_saved\n",
    "ON  event.editingSessionID = edits_saved.session_id\n",
    "WHERE\n",
    "    YEAR = 2021\n",
    "    AND MONTH = 05\n",
    "    AND vefu.useragent.is_bot = false\n",
    "    AND vefu.event.action = 'source-has-js'\n",
    "    AND vefu.event.feature = 'mwSave'\n",
    "    AND vefu.event.editor_interface = 'wikitext'\n",
    "GROUP BY\n",
    "    TO_DATE(dt),\n",
    "    event.editingSessionID,\n",
    "    event.user_id,\n",
    "    wiki,\n",
    "    IF(edits_saved.session_id is NULL, 'not_saved', 'saved')\n",
    "\"\n"
   ]
  },
  {
   "cell_type": "code",
   "execution_count": 22,
   "metadata": {},
   "outputs": [
    {
     "name": "stderr",
     "output_type": "stream",
     "text": [
      "Don't forget to authenticate with Kerberos using kinit\n",
      "\n"
     ]
    }
   ],
   "source": [
    "wikitext_js_edits_completed <-  wmfdata::query_hive(query)"
   ]
  },
  {
   "cell_type": "code",
   "execution_count": null,
   "metadata": {},
   "outputs": [],
   "source": [
    "# check to make sure all recorded 'source-has-js' events are marked as save in EditAttemptStep"
   ]
  },
  {
   "cell_type": "code",
   "execution_count": 23,
   "metadata": {},
   "outputs": [
    {
     "data": {
      "text/html": [
       "<table>\n",
       "<caption>A data.frame: 0 × 6</caption>\n",
       "<thead>\n",
       "\t<tr><th scope=col>date</th><th scope=col>session_id</th><th scope=col>user_id</th><th scope=col>wiki</th><th scope=col>is_saved</th><th scope=col>num_events</th></tr>\n",
       "\t<tr><th scope=col>&lt;chr&gt;</th><th scope=col>&lt;chr&gt;</th><th scope=col>&lt;int&gt;</th><th scope=col>&lt;chr&gt;</th><th scope=col>&lt;chr&gt;</th><th scope=col>&lt;int&gt;</th></tr>\n",
       "</thead>\n",
       "<tbody>\n",
       "</tbody>\n",
       "</table>\n"
      ],
      "text/latex": [
       "A data.frame: 0 × 6\n",
       "\\begin{tabular}{llllll}\n",
       " date & session\\_id & user\\_id & wiki & is\\_saved & num\\_events\\\\\n",
       " <chr> & <chr> & <int> & <chr> & <chr> & <int>\\\\\n",
       "\\hline\n",
       "\\end{tabular}\n"
      ],
      "text/markdown": [
       "\n",
       "A data.frame: 0 × 6\n",
       "\n",
       "| date &lt;chr&gt; | session_id &lt;chr&gt; | user_id &lt;int&gt; | wiki &lt;chr&gt; | is_saved &lt;chr&gt; | num_events &lt;int&gt; |\n",
       "|---|---|---|---|---|---|\n",
       "\n"
      ],
      "text/plain": [
       "     date session_id user_id wiki is_saved num_events"
      ]
     },
     "metadata": {},
     "output_type": "display_data"
    }
   ],
   "source": [
    "check_unsaved_events <- wikitext_js_edits_completed %>%\n",
    "    filter(is_saved == 'not_saved')\n",
    "\n",
    "check_unsaved_events"
   ]
  },
  {
   "cell_type": "markdown",
   "metadata": {},
   "source": [
    "Confirmed that all no js events recorded in VEFU are recorded in EditAttemptStep as saved. Also, serves as confirmation that I can use EditAttemptStep to identify percent of wikitext edits from users with js enabled."
   ]
  },
  {
   "cell_type": "markdown",
   "metadata": {},
   "source": [
    "# Test Query to Determine % of JS Edits "
   ]
  },
  {
   "cell_type": "code",
   "execution_count": 29,
   "metadata": {},
   "outputs": [],
   "source": [
    "# rought query to confirm approach\n",
    "# will be refined later\n",
    "query <-\n",
    "\"\n",
    "WITH js_edits AS(\n",
    "  SELECT\n",
    "    event.editingSessionid AS session_id,\n",
    "    event.user_id As `user`,\n",
    "    wiki AS wiki,\n",
    "    COUNT(*) AS num_js_events\n",
    "FROM event.visualeditorfeatureuse vefu\n",
    "WHERE\n",
    "    YEAR = 2021\n",
    "    AND MONTH = 05\n",
    "    AND Day >= 13\n",
    "    AND useragent.is_bot = false\n",
    "    AND event.action = 'source-has-js'\n",
    "    AND event.feature = 'mwSave'\n",
    "    AND event.editor_interface = 'wikitext'\n",
    "    AND event.platform = 'desktop'\n",
    "    AND event.integration = 'page'\n",
    "GROUP BY\n",
    "    event.editingSessionID,\n",
    "    event.user_id,\n",
    "    wiki\n",
    ")\n",
    "\n",
    "SELECT \n",
    "    eas.event.editing_session_id AS session_id,\n",
    "    eas.event.user_id As `user`,\n",
    "    eas.wiki AS wiki,\n",
    "    IF(js_edits.session_id IS NULL, 'no_js', 'js') AS js_used,\n",
    "    COUNT(*) as num_events\n",
    "FROM event.editattemptstep eas\n",
    "LEFT JOIN js_edits\n",
    "ON   event.editing_session_id  = js_edits.session_id\n",
    "WHERE \n",
    "    YEAR = 2021\n",
    "    AND month = 05\n",
    "    AND Day >= 13\n",
    "    AND useragent.is_bot = false \n",
    "    AND event.action = 'saveSuccess'\n",
    "    AND event.editor_interface = 'wikitext'\n",
    "    AND event.platform = 'desktop'\n",
    "    AND event.integration = 'page'\n",
    "GROUP BY\n",
    "    eas.event.editing_session_id,\n",
    "    eas.event.user_id,\n",
    "    eas.wiki,\n",
    "    IF(js_edits.session_id IS NULL, 'no_js', 'js')\n",
    "   \n",
    "  \"\n",
    "    "
   ]
  },
  {
   "cell_type": "code",
   "execution_count": 30,
   "metadata": {},
   "outputs": [
    {
     "name": "stderr",
     "output_type": "stream",
     "text": [
      "Don't forget to authenticate with Kerberos using kinit\n",
      "\n"
     ]
    }
   ],
   "source": [
    "wikitext_all_edits_completed <-  wmfdata::query_hive(query)"
   ]
  },
  {
   "cell_type": "code",
   "execution_count": 27,
   "metadata": {},
   "outputs": [
    {
     "name": "stderr",
     "output_type": "stream",
     "text": [
      "`summarise()` ungrouping output (override with `.groups` argument)\n",
      "\n"
     ]
    },
    {
     "data": {
      "text/html": [
       "<table>\n",
       "<caption>A tibble: 2 × 3</caption>\n",
       "<thead>\n",
       "\t<tr><th scope=col>js_used</th><th scope=col>n_sessions</th><th scope=col>n_users</th></tr>\n",
       "\t<tr><th scope=col>&lt;chr&gt;</th><th scope=col>&lt;int&gt;</th><th scope=col>&lt;int&gt;</th></tr>\n",
       "</thead>\n",
       "<tbody>\n",
       "\t<tr><td>js   </td><td>226536</td><td>37741</td></tr>\n",
       "\t<tr><td>no_js</td><td> 16784</td><td> 2254</td></tr>\n",
       "</tbody>\n",
       "</table>\n"
      ],
      "text/latex": [
       "A tibble: 2 × 3\n",
       "\\begin{tabular}{lll}\n",
       " js\\_used & n\\_sessions & n\\_users\\\\\n",
       " <chr> & <int> & <int>\\\\\n",
       "\\hline\n",
       "\t js    & 226536 & 37741\\\\\n",
       "\t no\\_js &  16784 &  2254\\\\\n",
       "\\end{tabular}\n"
      ],
      "text/markdown": [
       "\n",
       "A tibble: 2 × 3\n",
       "\n",
       "| js_used &lt;chr&gt; | n_sessions &lt;int&gt; | n_users &lt;int&gt; |\n",
       "|---|---|---|\n",
       "| js    | 226536 | 37741 |\n",
       "| no_js |  16784 |  2254 |\n",
       "\n"
      ],
      "text/plain": [
       "  js_used n_sessions n_users\n",
       "1 js      226536     37741  \n",
       "2 no_js    16784      2254  "
      ]
     },
     "metadata": {},
     "output_type": "display_data"
    }
   ],
   "source": [
    "wikitext_all_edits_completed %>%\n",
    "    group_by(js_used) %>%\n",
    "    summarize(n_sessions = n_distinct(session_id),\n",
    "             n_users = n_distinct(user))"
   ]
  },
  {
   "cell_type": "code",
   "execution_count": 3,
   "metadata": {},
   "outputs": [
    {
     "ename": "ERROR",
     "evalue": "Error in parse(text = x, srcfile = src): <text>:1:11: unexpected symbol\n1: Confirmed approach\n              ^\n",
     "output_type": "error",
     "traceback": [
      "Error in parse(text = x, srcfile = src): <text>:1:11: unexpected symbol\n1: Confirmed approach\n              ^\nTraceback:\n"
     ]
    }
   ],
   "source": [
    "Confirmed approach will work.\n",
    "\n",
    "Check changes to desktop and page"
   ]
  },
  {
   "cell_type": "code",
   "execution_count": null,
   "metadata": {},
   "outputs": [],
   "source": []
  }
 ],
 "metadata": {
  "kernelspec": {
   "display_name": "R",
   "language": "R",
   "name": "ir"
  },
  "language_info": {
   "codemirror_mode": "r",
   "file_extension": ".r",
   "mimetype": "text/x-r-source",
   "name": "R",
   "pygments_lexer": "r",
   "version": "3.5.2"
  }
 },
 "nbformat": 4,
 "nbformat_minor": 4
}
